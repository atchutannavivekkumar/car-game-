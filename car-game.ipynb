{
 "cells": [
  {
   "cell_type": "code",
   "execution_count": 13,
   "id": "f0be5b8e",
   "metadata": {},
   "outputs": [
    {
     "name": "stdout",
     "output_type": "stream",
     "text": [
      " start -> start the game.\n",
      "            pause -> stop the game.\n",
      "             quit -> quit the game.\n",
      "You paused the game.\n",
      "You started the game.\n",
      "You quit the game.\n"
     ]
    }
   ],
   "source": [
    "instrctions = str(input(\"enter HELP for instructions.\"))\n",
    "instrctions_cap = instrctions.upper()\n",
    "\n",
    "if instrctions_cap == \"HELP\":\n",
    "    print(''' start -> start the game.\n",
    "            pause -> stop the game.\n",
    "             quit -> quit the game.''')\n",
    "\n",
    "else:\n",
    "    print(\"I don't understand that.\")\n",
    "\n",
    "\n",
    "begin = str(input(\"Enter the Y to start the game and N to not start\"))\n",
    "begin_cap = begin.upper()\n",
    "while begin_cap == \"Y\":\n",
    "            command = str(input(\"Enter your command for the game.\"))\n",
    "            command_cap  = command.upper()\n",
    "            if command_cap == \"START\":\n",
    "                print(\"You started the game.\")\n",
    "            elif command_cap == \"PAUSE\":\n",
    "                print(\"You paused the game.\")\n",
    "            else:\n",
    "                print(\"You quit the game.\")\n",
    "                break\n",
    "\n",
    "\n",
    "\n"
   ]
  },
  {
   "cell_type": "code",
   "execution_count": null,
   "id": "06ddf5a1",
   "metadata": {},
   "outputs": [],
   "source": []
  }
 ],
 "metadata": {
  "kernelspec": {
   "display_name": "base",
   "language": "python",
   "name": "python3"
  },
  "language_info": {
   "codemirror_mode": {
    "name": "ipython",
    "version": 3
   },
   "file_extension": ".py",
   "mimetype": "text/x-python",
   "name": "python",
   "nbconvert_exporter": "python",
   "pygments_lexer": "ipython3",
   "version": "3.12.4"
  }
 },
 "nbformat": 4,
 "nbformat_minor": 5
}
